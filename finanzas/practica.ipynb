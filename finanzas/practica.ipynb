{
 "cells": [
  {
   "attachments": {},
   "cell_type": "markdown",
   "metadata": {},
   "source": [
    "# WACC"
   ]
  },
  {
   "attachments": {},
   "cell_type": "markdown",
   "metadata": {},
   "source": [
    "## Ejercicio 1, con T-Bond"
   ]
  },
  {
   "attachments": {},
   "cell_type": "markdown",
   "metadata": {},
   "source": [
    "James Co. es una compañia con 43,30 millones de acciones ordinarias y 2.28 millones de acciones preferentes en circulación. Al cierre de hoy, cada acción ordinaria se transó a un precio de USS45, mientras que cada acción preferente, a USS50. Se sabe que el último dividendo recibido por la acción preferente fue de USS3. Estos dividendos se reparten anualmente.\n",
    "\n",
    "Según el balance general, el valor en libros del total de la deuda asciende a USS195,34 millones, con un valor de mercado estimado en USS205,107 millones. El total de su deuda está representada por bonos emitidos hace 2 años y cuya redención fue a 7 años (es decir, le quedan 5 años). Se sabe, además, que estos bonos pagan cupones semestrales con una tasa del cupón (anual) del 8% y tienen un valor facial de USS1.000.\n",
    "\n",
    "Según estudios estadísticos confiables, se ha observado que en los últimos 30 años la rentabilidad promedio histórica del T-bond de Estados Unidos fue de 5,25%, mientras que la rentabilidad histórica promedio del índice de mercado fue de 10,50%. la beta de las acciones ordinarias de la compañia, para igual periodo, fue de 0,84. la tasa de impuesto a la renta es de 30%.\n",
    "\n",
    "Con los datos proporcionados, halle el costo promedio ponderado del capital de la compañia. ¿Cómo utilizaría usted este WACC para evaluar un proyecto de inversión de la empresa?"
   ]
  },
  {
   "cell_type": "code",
   "execution_count": 1,
   "metadata": {},
   "outputs": [
    {
     "name": "stdout",
     "output_type": "stream",
     "text": [
      "------------------------Estructura financiera-------------------------\n",
      "Valor de mercado de las acciones comunes (E) (86.33%): 1,936,350,000\n",
      "Valor de mercado de las acciones preferentes (P) (4.52%): 101,400,000\n",
      "Valor de la deuda total (D) (9.14%): 205,107,000\n",
      "Valor de mercado de la empresa (V): 2,242,857,000\n",
      "------------------------------Resultados------------------------------\n",
      "Costo del patrimonio (K_e): 14.07%\n",
      "Costo de la deuda (K_d): 8.00%\n",
      "Costo de las acciones preferentes (K_p): 6.00%\n",
      "Escudo fiscal: 70.00%\n",
      "Valor WACC: 12.93%\n"
     ]
    }
   ],
   "source": [
    "from main import *\n",
    "\n",
    "wacc_acciones_preferentes = WACC(\n",
    "    acciones_comun_precio=45,\n",
    "    acciones_comun_cantidad=43_030_000,\n",
    "    acciones_preferente_precio=50,\n",
    "    acciones_preferente_cantidad=2_028_000,\n",
    "    acciones_dividendo=3,\n",
    "    total_mercado_deuda_override=205_107_000,\n",
    "    bonos_tir=Bono(\n",
    "                tasa_cupon=0.08,\n",
    "                valor_nominal=1_000,\n",
    "                valor_mercado=1_000,\n",
    "                periodos=7*2\n",
    "                ).tir(),\n",
    "    prima_mercado=0.105,\n",
    "    tasa_impuestos=0.3,\n",
    "    tasa_libre_riesgo=0.0525,\n",
    "    beta=0.84\n",
    ")\n",
    "wacc_acciones_preferentes.estructura_financiera()\n",
    "wacc_acciones_preferentes.presentacion()"
   ]
  },
  {
   "attachments": {},
   "cell_type": "markdown",
   "metadata": {},
   "source": [
    "## Ejercicio 2"
   ]
  },
  {
   "attachments": {},
   "cell_type": "markdown",
   "metadata": {},
   "source": [
    "Proinversiones Ecológicas es una compañía de 650.000 acciones ordinarias y 145.000 acciones preferentes en circulación. Al cierre de hoy en la bolsa de Lima, la última transacción de acciones ordinarias tuvo un precio de USS53, mientras que cada acción preferente se transó en USS75. El último dividendo recibido por este tipo de acciones fue de USS4.5. Estos dividendos se reparten anualmente.\n",
    "\n",
    "Según el balance general, el valor en libros del total de la deuda asciende a USS2,3 millones, con un valor de mercado estimado en USS2,7 millones. El total de su deuda está representado por bonos emitidos hace 3 años, cuya fecha de redención es de 9 años. La rentabilidad al vencimiento de estos bonos es de 9,35%.\n",
    "\n",
    "Según datos estadísticos, se sabe que en los últimos 35 años la rentabilidad promedio histórica del T-bond de Estados Unidos fue de 5,25%, mientras que la rentabilidad histórica promedio del índice de mercado fue de 11,5%. La beta de las acciones ordinarias de la compañia, para igual periodo, fue de de 1,25. La tasa de impuesto a la renta es de 27%.\n",
    "\n",
    "Halle el costo promedio ponderado del capital de la compañia."
   ]
  },
  {
   "cell_type": "code",
   "execution_count": 9,
   "metadata": {},
   "outputs": [
    {
     "name": "stdout",
     "output_type": "stream",
     "text": [
      "------------------------Estructura financiera-------------------------\n",
      "Valor de mercado de las acciones comunes (E) (72.78%): 34,450,000\n",
      "Valor de mercado de las acciones preferentes (P) (22.98%): 10,875,000\n",
      "Valor de la deuda total (D) (4.24%): 2,007,000\n",
      "Valor de mercado de la empresa (V): 47,332,000\n",
      "------------------------------Resultados------------------------------\n",
      "Costo del patrimonio (K_e): 19.62%\n",
      "Costo de la deuda (K_d): 9.35%\n",
      "Costo de las acciones preferentes (K_p): 6.00%\n",
      "Escudo fiscal: 73.00%\n",
      "Valor WACC: 15.95%\n"
     ]
    }
   ],
   "source": [
    "from main import *\n",
    "\n",
    "wacc_acciones_preferentes = WACC(\n",
    "    acciones_comun_precio=53,\n",
    "    acciones_comun_cantidad=650_000,\n",
    "    acciones_preferente_precio=75,\n",
    "    acciones_preferente_cantidad=145_000,\n",
    "    acciones_dividendo=4.5,\n",
    "    total_mercado_deuda_override=2_007_000,\n",
    "    bonos_tir=0.0935,\n",
    "    prima_mercado=0.115,\n",
    "    tasa_impuestos=0.27,\n",
    "    tasa_libre_riesgo=0.0525,\n",
    "    beta=1.25\n",
    ")\n",
    "wacc_acciones_preferentes.estructura_financiera()\n",
    "wacc_acciones_preferentes.presentacion()"
   ]
  },
  {
   "attachments": {},
   "cell_type": "markdown",
   "metadata": {},
   "source": [
    "## Examen"
   ]
  },
  {
   "cell_type": "code",
   "execution_count": 8,
   "metadata": {},
   "outputs": [
    {
     "name": "stdout",
     "output_type": "stream",
     "text": [
      "------------------------Estructura financiera-------------------------\n",
      "Valor de mercado de las acciones comunes (E) (94.76%): 36.16\n",
      "Valor de la deuda total (D) (5.24%): 2\n",
      "Valor de mercado de la empresa (V): 38.16\n",
      "------------------------------Resultados------------------------------\n",
      "Costo del patrimonio (K_e): 20.00%\n",
      "Costo de la deuda (K_d): 6.45%\n",
      "Escudo fiscal: 65.00%\n",
      "Valor WACC: 19.17%\n"
     ]
    }
   ],
   "source": [
    "from main import *\n",
    "\n",
    "wacc_acciones_preferentes = WACC(\n",
    "    acciones_comun_precio=32,\n",
    "    acciones_comun_cantidad=1.13,\n",
    "    total_mercado_deuda_override=2,\n",
    "    bonos_tir=0.0645,\n",
    "    prima_mercado=0.125,\n",
    "    tasa_impuestos=0.35,\n",
    "    tasa_libre_riesgo=0.0625,\n",
    "    beta=1.1\n",
    ")\n",
    "wacc_acciones_preferentes.estructura_financiera()\n",
    "wacc_acciones_preferentes.presentacion()"
   ]
  },
  {
   "cell_type": "code",
   "execution_count": 3,
   "metadata": {},
   "outputs": [
    {
     "name": "stdout",
     "output_type": "stream",
     "text": [
      "------------------------Estructura financiera-------------------------\n",
      "Valor de mercado de las acciones comunes (E) (51.08%): 945\n",
      "Valor de la deuda total (D) (48.92%): 905\n",
      "Valor de mercado de la empresa (V): 1,850\n",
      "------------------------------Resultados------------------------------\n",
      "Costo del patrimonio (K_e): 29.70%\n",
      "Costo de la deuda (K_d): 7.31%\n",
      "Escudo fiscal: 66.00%\n",
      "Valor WACC: 17.53%\n",
      "945\n",
      "905\n"
     ]
    }
   ],
   "source": [
    "from main import *\n",
    "\n",
    "wacc_acciones_preferentes = WACC(\n",
    "    acciones_comun_precio=21,\n",
    "    acciones_comun_cantidad=45,\n",
    "    bonos_total_nominal_override=[250, 300, 350],\n",
    "    bonos_total_mercado_override=[240, 320, 345],\n",
    "    bonos_rentabilidad_vencimiento=[0.058, 0.072, 0.0845],\n",
    "    prima_mercado=0.1375,\n",
    "    tasa_impuestos=0.34,\n",
    "    tasa_libre_riesgo=0.0522,\n",
    "    beta=1.78\n",
    ")\n",
    "wacc_acciones_preferentes.estructura_financiera()\n",
    "wacc_acciones_preferentes.presentacion()\n",
    "print(wacc_acciones_preferentes.total_mercado_accion_comun())\n",
    "print(wacc_acciones_preferentes.total_mercado_deuda())"
   ]
  },
  {
   "attachments": {},
   "cell_type": "markdown",
   "metadata": {},
   "source": [
    "# Valuación acciones"
   ]
  },
  {
   "cell_type": "code",
   "execution_count": 4,
   "metadata": {},
   "outputs": [
    {
     "name": "stdout",
     "output_type": "stream",
     "text": [
      "Flujo: [0, 0, 0, 6, 126.00000000000001]\n",
      "Valor de la acción: 126.00\n",
      "Valor presente del flujo: 82.33\n"
     ]
    },
    {
     "data": {
      "image/png": "[encoded data removed]",
      "text/plain": [
       "<Figure size 640x480 with 1 Axes>"
      ]
     },
     "metadata": {},
     "output_type": "display_data"
    }
   ],
   "source": [
    "from main import *\n",
    "import numpy_financial as npf\n",
    "\n",
    "tasa_descuento = 0.1\n",
    "accion = AccionComun(\n",
    "    dividendo_esperado=6,\n",
    "    tasa_descuento=tasa_descuento,\n",
    "    tasa_crecimiento=0.05,\n",
    ").valor()\n",
    "\n",
    "\n",
    "# Flujo\n",
    "primero = [0, 0, 0]\n",
    "segundo = [6, accion]\n",
    "flujo = primero + segundo\n",
    "\n",
    "# Consola\n",
    "print(f'Flujo: {flujo}')\n",
    "print(f'Valor de la acción: {accion:.2f}')\n",
    "print(f'Valor presente del flujo: {npf.npv(tasa_descuento, [0] + flujo):.2f}')\n",
    "AccionComun.grafico_flujo(flujo=flujo)"
   ]
  },
  {
   "cell_type": "code",
   "execution_count": 8,
   "metadata": {},
   "outputs": [
    {
     "name": "stdout",
     "output_type": "stream",
     "text": [
      "30.285714285714285\n",
      "36.07077028571429\n",
      "72.58147670530495\n"
     ]
    }
   ],
   "source": [
    "from main import *\n",
    "\n",
    "accion = AccionComun(\n",
    "    dividendo_esperado=2,\n",
    "    tasa_descuento=0.13,\n",
    "    tasa_crecimiento=0.06,\n",
    ")\n",
    "\n",
    "print(accion.valor())\n",
    "accion.periodo=4\n",
    "print(accion.valor())\n",
    "accion.periodo=16\n",
    "print(accion.valor())"
   ]
  },
  {
   "cell_type": "code",
   "execution_count": 5,
   "metadata": {},
   "outputs": [
    {
     "name": "stdout",
     "output_type": "stream",
     "text": [
      "Flujo: [17.5, 692.2666666666667]\n",
      "Valor de la acción: 674.67\n",
      "Valor presente del flujo: 512.01\n"
     ]
    },
    {
     "data": {
      "image/png": "[encoded data removed]",
      "text/plain": [
       "<Figure size 640x480 with 1 Axes>"
      ]
     },
     "metadata": {},
     "output_type": "display_data"
    }
   ],
   "source": [
    "from main import *\n",
    "import numpy_financial as npf\n",
    "\n",
    "tasa_descuento = 0.18\n",
    "\n",
    "accion = AccionComun(\n",
    "    dividendo_esperado=17.6,\n",
    "    tasa_descuento=tasa_descuento,\n",
    "    tasa_crecimiento=0.15,\n",
    ").valor()\n",
    "\n",
    "# Flujo\n",
    "flujo = [17.5, 17.6 + accion]\n",
    "\n",
    "# Consola\n",
    "print(f'Flujo: {flujo}')\n",
    "print(f'Valor de la acción: {accion:.2f}')\n",
    "print(f'Valor presente del flujo: {npf.npv(tasa_descuento, [0] + flujo):.2f}')\n",
    "AccionComun.grafico_flujo(flujo=flujo)"
   ]
  },
  {
   "attachments": {},
   "cell_type": "markdown",
   "metadata": {},
   "source": [
    "# Práctica múltiple"
   ]
  },
  {
   "attachments": {},
   "cell_type": "markdown",
   "metadata": {},
   "source": [
    "## Caso 28"
   ]
  },
  {
   "cell_type": "code",
   "execution_count": 1,
   "metadata": {},
   "outputs": [
    {
     "name": "stdout",
     "output_type": "stream",
     "text": [
      "------------------------------Resultados------------------------------\n",
      "Flujo de caja libre: [0, 1950500, 3509000, 2998500, 3858725]\n",
      "Valor residual (perpetuidad): 135,055,375.0\n",
      "Valor Presente del FCL: 10,031,004.482388448\n",
      "Valor Presente del FCL (con el valor residual): 109,300,736.88800825\n",
      "-----------------------------VNA del FCL------------------------------\n",
      "Periodo Pronosticado (4 años) (9.18%): 10,031,004.482388448\n",
      "Perpetuidad (>4 años) (90.82%): 99,269,732.4056198\n"
     ]
    }
   ],
   "source": [
    "# A\n",
    "from main import *\n",
    "\n",
    "flujo = FlujoCajaLibre(\n",
    "    tasa_crecimiento=0.05,\n",
    "    tasa_descuento=0.08,\n",
    "\n",
    "    fcl_override=[1_950_500, 3_509_000, 2_998_500, 3_858_725]\n",
    ")\n",
    "flujo.presentacion()\n"
   ]
  },
  {
   "cell_type": "code",
   "execution_count": 2,
   "metadata": {},
   "outputs": [
    {
     "name": "stdout",
     "output_type": "stream",
     "text": [
      "Tasa de crecimiento: 5.00%\n",
      "*Tasa de descuento: 8.00%\n",
      "--VNA: 10,031,004\n",
      "--VNA con perpetuidad: 109,300,736\n",
      "*Tasa de descuento: 9.00%\n",
      "--VNA: 9,791,914\n",
      "--VNA con perpetuidad: 81,549,389\n",
      "*Tasa de descuento: 10.00%\n",
      "--VNA: 9,561,560\n",
      "--VNA con perpetuidad: 64,908,343\n",
      "\n",
      "Tasa de crecimiento: 3.00%\n",
      "*Tasa de descuento: 8.00%\n",
      "--VNA: 10,031,004\n",
      "--VNA con perpetuidad: 68,458,332\n",
      "*Tasa de descuento: 9.00%\n",
      "--VNA: 9,791,914\n",
      "--VNA con perpetuidad: 56,719,025\n",
      "*Tasa de descuento: 10.00%\n",
      "--VNA: 9,561,560\n",
      "--VNA con perpetuidad: 48,341,959\n",
      "\n",
      "Tasa de crecimiento: 1.00%\n",
      "*Tasa de descuento: 8.00%\n",
      "--VNA: 10,031,004\n",
      "--VNA con perpetuidad: 50,954,445\n",
      "*Tasa de descuento: 9.00%\n",
      "--VNA: 9,791,914\n",
      "--VNA con perpetuidad: 44,303,843\n",
      "*Tasa de descuento: 10.00%\n",
      "--VNA: 9,561,560\n",
      "--VNA con perpetuidad: 39,138,412\n",
      "\n"
     ]
    }
   ],
   "source": [
    "descuento_lista = [0.08, 0.09, 0.1]\n",
    "crecimiento_lista = [0.05, 0.03, 0.01]\n",
    "\n",
    "for crecimiento in crecimiento_lista:\n",
    "    flujo.tasa_crecimiento = crecimiento\n",
    "    print(f'Tasa de crecimiento: {flujo.tasa_crecimiento * 100:.2f}%')\n",
    "    for tasa in descuento_lista:\n",
    "        flujo.tasa_descuento = tasa\n",
    "        print(f'*Tasa de descuento: {flujo.tasa_descuento * 100:.2f}%')\n",
    "        print(f'--VNA: {int(flujo.vna()):,}')\n",
    "        print(f'--VNA con perpetuidad: {int(flujo.vna_valor_residual()):,}')\n",
    "    print()\n"
   ]
  },
  {
   "attachments": {},
   "cell_type": "markdown",
   "metadata": {},
   "source": [
    "## Caso 31"
   ]
  },
  {
   "cell_type": "code",
   "execution_count": 23,
   "metadata": {},
   "outputs": [
    {
     "name": "stdout",
     "output_type": "stream",
     "text": [
      "RAIT: 695,750\n",
      "Resultado neto: 393,206.93999999994\n",
      "Flujo de caja libre: 216,478.0699999999\n",
      "Valor de los recursos propios: 3,589,250\n",
      "Número de acciones: 87,750.0\n"
     ]
    }
   ],
   "source": [
    "# Calcular Rait\n",
    "resultados_inmovilizado = 605_000\n",
    "resultados_financiera = 750\n",
    "resultado_generado = 90_000\n",
    "rait = resultados_inmovilizado + resultados_financiera + resultado_generado\n",
    "print(f'RAIT: {rait:,}')\n",
    "\n",
    "# Calcular resultado neto\n",
    "tasa_impositiva = 1 - 0.3\n",
    "gastos_financieros_1 = 134_025.8\n",
    "resultado_neto = (rait - gastos_financieros_1) * tasa_impositiva\n",
    "print(f'Resultado neto: {resultado_neto:,}')\n",
    "#rait2 = resultado_neto / tasa_impositiva + gastos_financieros_1\n",
    "\n",
    "# Calcular flujo de caja libre\n",
    "gastos_financieros = 93_818.06\n",
    "amortizacion = 12_276\n",
    "activo_no_corriente = 900_750\n",
    "capital_corriente = -617_927.07\n",
    "fcl = resultado_neto+gastos_financieros+amortizacion-activo_no_corriente-capital_corriente\n",
    "print(f'Flujo de caja libre: {fcl:,}')\n",
    "\n",
    "# Calcular el valor de los recursos propios\n",
    "valor_airmas = 5_981_250\n",
    "recursos_ajenos = 2_392_000\n",
    "recursos_propios = valor_airmas - recursos_ajenos\n",
    "print(f'Valor de los recursos propios: {recursos_propios:,}')\n",
    "\n",
    "# Calcular el número de acciones\n",
    "activo_total = 5_200_000\n",
    "recursos_propios_contable = activo_total - recursos_ajenos\n",
    "valor_contable = 32\n",
    "numero_de_acciones = recursos_propios_contable / valor_contable\n",
    "print(f'Número de acciones: {numero_de_acciones:,}')"
   ]
  }
 ],
 "metadata": {
  "kernelspec": {
   "display_name": "Python 3",
   "language": "python",
   "name": "python3"
  },
  "language_info": {
   "codemirror_mode": {
    "name": "ipython",
    "version": 3
   },
   "file_extension": ".py",
   "mimetype": "text/x-python",
   "name": "python",
   "nbconvert_exporter": "python",
   "pygments_lexer": "ipython3",
   "version": "3.11.1"
  },
  "orig_nbformat": 4,
  "vscode": {
   "interpreter": {
    "hash": "50ccbcaf365e3a3969e78fe7da414ebbfe5cca2be074def83e792dbceb3c85eb"
   }
  }
 },
 "nbformat": 4,
 "nbformat_minor": 2
}
