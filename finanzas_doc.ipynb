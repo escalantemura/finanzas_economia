{
 "cells": [
  {
   "attachments": {},
   "cell_type": "markdown",
   "metadata": {},
   "source": [
    "# Valuación de empresas mediante método WACC"
   ]
  },
  {
   "attachments": {},
   "cell_type": "markdown",
   "metadata": {},
   "source": [
    "## WACC, con acciones comunes"
   ]
  },
  {
   "attachments": {},
   "cell_type": "markdown",
   "metadata": {},
   "source": [
    "\\begin{equation}\n",
    "WACC = \\left(\\frac{E}{V} \\times K_e\\right) + \\left(\\frac{D}{V} \\times K_d\\right) \\times (1-T)\n",
    "\\end{equation}"
   ]
  },
  {
   "attachments": {},
   "cell_type": "markdown",
   "metadata": {},
   "source": [
    "\\begin{equation}\n",
    "K_e = R_f + \\beta \\times (R_m - R_f)\n",
    "\\end{equation}\n",
    "\n",
    "Donde:\n",
    "\n",
    "* R_f es la tasa libre de riesgo, es decir, el rendimiento que se puede obtener invirtiendo en un activo libre de riesgo, como los bonos del gobierno.\n",
    "* \\beta es el coeficiente beta, que mide la sensibilidad del rendimiento de una acción a los cambios en el mercado en general. Se puede calcular utilizando herramientas financieras como el modelo CAPM (Capital Asset Pricing Model).\n",
    "* R_m es el rendimiento promedio del mercado de valores en general, que se puede medir utilizando un índice de mercado amplio como el S&P 500.\n",
    "\n",
    "Es importante destacar que la fórmula del costo del capital común se basa en la teoría financiera moderna y supone que los inversores son racionales y diversificados. Además, es importante tener en cuenta que el costo del capital común suele ser más alto que el costo de la deuda y el costo de la participación preferente, ya que las acciones comunes son más riesgosas y no tienen un pago de dividendos garantizado como las otras dos fuentes de financiación."
   ]
  },
  {
   "attachments": {},
   "cell_type": "markdown",
   "metadata": {},
   "source": [
    "\\begin{equation}\n",
    "K_d = \\frac{I}{V_d}\n",
    "\\end{equation}\n",
    "\n",
    "Donde:\n",
    "\n",
    "* I es el costo anual de la deuda, que incluye el interés pagado sobre los préstamos y cualquier otro costo relacionado con la emisión de deuda.\n",
    "* V_d es el valor total de la deuda de la empresa.\n",
    "\n",
    "Cabe destacar que el costo de la deuda es el costo más bajo de las tres fuentes principales de financiamiento, ya que la deuda se considera menos riesgosa que las acciones y las acciones preferentes, debido a que los intereses sobre la deuda deben pagarse antes de que se distribuyan los dividendos a los accionistas."
   ]
  },
  {
   "cell_type": "code",
   "execution_count": 1,
   "metadata": {},
   "outputs": [
    {
     "name": "stdout",
     "output_type": "stream",
     "text": [
      "------------------------Estructura financiera-------------------------\n",
      "Valor de mercado de las acciones comunes (E) (61.54%): 80\n",
      "Valor de la deuda total (D) (38.46%): 50\n",
      "Valor de mercado de la empresa (V): 130\n",
      "------------------------------Resultados------------------------------\n",
      "Costo del patrimonio (K_e): 15.00%\n",
      "Costo de la deuda (K_d): 7.56%\n",
      "Escudo fiscal: 70.00%\n",
      "Valor WACC: 11.27%\n"
     ]
    }
   ],
   "source": [
    "from finanzas import *\n",
    "\n",
    "wacc_normal = WACC(\n",
    "    acciones_comun_precio=40,\n",
    "    acciones_comun_cantidad=2,\n",
    "    bonos_total_nominal_override=[10, 20, 15],\n",
    "    bonos_total_mercado_override=[12, 25, 13],\n",
    "    bonos_rentabilidad_vencimiento=[0.061, 0.07, 0.1],\n",
    "    prima_mercado=0.1,\n",
    "    tasa_impuestos=0.3,\n",
    "    tasa_libre_riesgo=0.06,\n",
    "    beta=0.9\n",
    ")\n",
    "wacc_normal.estructura_financiera()\n",
    "wacc_normal.presentacion()"
   ]
  },
  {
   "attachments": {},
   "cell_type": "markdown",
   "metadata": {},
   "source": [
    "## WACC, con acciones preferentes"
   ]
  },
  {
   "attachments": {},
   "cell_type": "markdown",
   "metadata": {},
   "source": [
    "\\begin{equation}\n",
    "WACC = \\left(\\frac{E}{V} \\times K_e\\right) + \\left(\\frac{P}{V} \\times K_p\\right) + \\left(\\frac{D}{V} \\times K_d\\right) \\times (1-T)\n",
    "\\end{equation}"
   ]
  },
  {
   "attachments": {},
   "cell_type": "markdown",
   "metadata": {},
   "source": [
    "\\begin{equation}\n",
    "K_p = \\frac{D_p}{P_p}\n",
    "\\end{equation}\n",
    "\n",
    "Donde:\n",
    "\n",
    "* D_p es el dividendo anual pagado por la empresa a los accionistas preferentes y\n",
    "* P_p es el precio de la acción preferente.\n",
    "\n",
    "Cabe destacar que, en general, el costo de la participación preferente suele ser mayor que el costo de la deuda pero menor que el costo del capital común. Esto se debe a que las acciones preferentes tienen preferencia sobre las acciones comunes en términos de pagos de dividendos, lo que las hace menos riesgosas que las acciones comunes, pero a la vez no tienen derecho a voto y, por tanto, no participan en la toma de decisiones empresariales."
   ]
  },
  {
   "cell_type": "code",
   "execution_count": 2,
   "metadata": {},
   "outputs": [
    {
     "name": "stdout",
     "output_type": "stream",
     "text": [
      "------------------------Estructura financiera-------------------------\n",
      "Valor de mercado de las acciones comunes (E) (46.15%): 30,000,000\n",
      "Valor de mercado de las acciones preferentes (E) (12.31%): 8,000,000\n",
      "Valor de la deuda total (D) (41.54%): 27,000,000\n",
      "Valor de mercado de la empresa (V): 65,000,000\n",
      "------------------------------Resultados------------------------------\n",
      "Costo del patrimonio (K_e): 14.90%\n",
      "Costo de la deuda (K_d): 11.75%\n",
      "Costo de las acciones preferentes (K_p): 8.75%\n",
      "Escudo fiscal: 70.00%\n",
      "Valor WACC: 11.37%\n"
     ]
    }
   ],
   "source": [
    "from finanzas import *\n",
    "\n",
    "wacc_acciones_preferentes = WACC(\n",
    "    acciones_comun_precio=15,\n",
    "    acciones_comun_cantidad=2_000_000,\n",
    "    acciones_preferente_precio=80,\n",
    "    acciones_preferente_cantidad=100_000,\n",
    "    acciones_dividendo=7,\n",
    "    bonos_cantidad=[30_000],\n",
    "    bonos_precio_nominal=[1_000],\n",
    "    bonos_precio_mercado=[900],\n",
    "    bonos_tir=Bono(\n",
    "                tasa_cupon=0.1,\n",
    "                valor_nominal=1_000,\n",
    "                valor_mercado=900,\n",
    "                periodos=10).tir(),\n",
    "    prima_mercado=0.09,\n",
    "    tasa_impuestos=0.3,\n",
    "    tasa_libre_riesgo=0.05,\n",
    "    beta=1.1\n",
    ")\n",
    "wacc_acciones_preferentes.estructura_financiera()\n",
    "wacc_acciones_preferentes.presentacion()"
   ]
  },
  {
   "attachments": {},
   "cell_type": "markdown",
   "metadata": {},
   "source": [
    "# Flujo de caja libre"
   ]
  },
  {
   "attachments": {},
   "cell_type": "markdown",
   "metadata": {},
   "source": [
    "La tasa de descuento puede ser el WACC también"
   ]
  },
  {
   "cell_type": "code",
   "execution_count": 1,
   "metadata": {},
   "outputs": [
    {
     "name": "stdout",
     "output_type": "stream",
     "text": [
      "------------------------------Resultados------------------------------\n",
      "Flujo de caja libre: [0, 53021, 224434, 254434, 284434, 314434]\n",
      "Valor residual (perpetuidad): 2,550,134.0157480314\n",
      "Valor Presente del FCL: 688,142.8129468191\n",
      "Valor Presente del FCL (con el valor residual): 1,751,215.2316035493\n",
      "-----------------------------VNA del FCL------------------------------\n",
      "Periodo Pronosticado (5 años) (39.30%): 688,142.8129468191\n",
      "Perpetuidad (>5 años) (60.70%): 1,063,072.41865673\n",
      "Total: 1,751,215.2316035493\n"
     ]
    }
   ],
   "source": [
    "from finanzas import *\n",
    "\n",
    "normal = FlujoCajaLibre(\n",
    "    utilidad_operativa=       [-63_006, 209_647, 209_647, 209_647, 209_647, 209_647],\n",
    "    depreciacion_amortizacion=[207_331,\t237_331, 267_331, 297_331, 327_331,\t357_331],\n",
    "    capex=                    [1_673_995, 240_000, 240_000, 240_000, 240_000, 240_000],\n",
    "    cambio_capital_trabajo=   [36_441, 141_413, 0, 0, 0, 0],\n",
    "    impuesto_renta=           [0, 12_544, 12_544, 12_544, 12_544, 12_544],\n",
    "    tasa_crecimiento=0.03,\n",
    "    tasa_descuento=0.157\n",
    ")\n",
    "\n",
    "normal.presentacion()"
   ]
  },
  {
   "attachments": {},
   "cell_type": "markdown",
   "metadata": {},
   "source": [
    "Loop cambiando las tasas de descuento"
   ]
  },
  {
   "cell_type": "code",
   "execution_count": 12,
   "metadata": {},
   "outputs": [
    {
     "name": "stdout",
     "output_type": "stream",
     "text": [
      "Tasa de descuento: 13.40\n",
      "VNA: 735,432.5695511482\n",
      "VNA con perpetuidad: 2,199,816.8510654923\n",
      "\n",
      "Tasa de descuento: 14.50\n",
      "VNA: 712,249.8353780699\n",
      "VNA con perpetuidad: 1,962,036.7257071515\n",
      "\n",
      "Tasa de descuento: 15.70\n",
      "VNA: 688,142.8129468191\n",
      "VNA con perpetuidad: 1,751,215.2316035493\n",
      "\n",
      "Tasa de descuento: 16.80\n",
      "VNA: 667,066.7810499574\n",
      "VNA con perpetuidad: 1,591,404.3015158372\n",
      "\n",
      "Tasa de descuento: 17.90\n",
      "VNA: 646,912.5947239182\n",
      "VNA con perpetuidad: 1,456,190.3932157666\n",
      "\n"
     ]
    }
   ],
   "source": [
    "tasas = [0.134, 0.145, 0.157, 0.168, 0.179]\n",
    "for tasa in tasas:\n",
    "    normal.tasa_descuento = tasa\n",
    "    print(f'Tasa de descuento: {normal.tasa_descuento * 100:.2f}')\n",
    "    print(f'VNA: {normal.vna():,}')\n",
    "    print(f'VNA con perpetuidad: {normal.vna_perpetuidad():,}')\n",
    "    print()"
   ]
  },
  {
   "cell_type": "code",
   "execution_count": 2,
   "metadata": {},
   "outputs": [
    {
     "name": "stdout",
     "output_type": "stream",
     "text": [
      "------------------------------Resultados------------------------------\n",
      "Flujo de caja libre: [0, 10685, 12638, 12910, 12809, 14183, 11774, 11301, 11379, 11517, 11651]\n",
      "Valor residual (perpetuidad): 97,091.66666666667\n",
      "Valor Presente del FCL: 68,569.68034780616\n",
      "Valor Presente del FCL (con el valor residual): 96,481.21442160229\n",
      "-----------------------------VNA del FCL------------------------------\n",
      "Periodo Pronosticado (10 años) (71.07%): 68,569.68034780616\n",
      "Perpetuidad (>10 años) (28.93%): 27,911.534073796123\n",
      "Total: 96,481.21442160229\n"
     ]
    }
   ],
   "source": [
    "from finanzas import *\n",
    "\n",
    "normal = FlujoCajaLibre(\n",
    "    fcl_override=[10_685, 12_638, 12_910, 12_809, 14_183, 11_774, 11_301, 11_379, 11_517, 11_651],\n",
    "    tasa_crecimiento=0.0,\n",
    "    tasa_descuento=0.12\n",
    ")\n",
    "\n",
    "normal.presentacion()"
   ]
  },
  {
   "attachments": {},
   "cell_type": "markdown",
   "metadata": {},
   "source": [
    "# Valoración de acciones"
   ]
  },
  {
   "attachments": {},
   "cell_type": "markdown",
   "metadata": {},
   "source": [
    "$$\\frac{Dividendo \\cdot (1+G)^t}{R-G}$$\n",
    "\n",
    "Donde:\n",
    "* $t$ es el periodo (*1 -> Año presente (por defecto), 2 -> 1er año, 3 -> 2do año*)\n",
    "* $R$ es la tasa de descuento o el retorno requerido, retorno del accionista.\n",
    "* $G$ es la tasa de crecimiento del dividendo.\n",
    "\n",
    "Parámetros opcionales:\n",
    "* El parámetro lista_tasa_crecimiento se utiliza para hacer los pronósticos."
   ]
  },
  {
   "attachments": {},
   "cell_type": "markdown",
   "metadata": {},
   "source": [
    "## Acción común con pronóstico de tasas de crecimiento"
   ]
  },
  {
   "cell_type": "code",
   "execution_count": 1,
   "metadata": {},
   "outputs": [
    {
     "name": "stdout",
     "output_type": "stream",
     "text": [
      "Valor de la acción (año 0): 159.00\n",
      "Pronóstico según las tasas de crecimiento: [79.5, 90.85714285714285, 106.0, 127.2]\n",
      "Ganancia de capital: -9.54\n"
     ]
    },
    {
     "data": {
      "image/png": "[encoded data removed]",
      "text/plain": [
       "<Figure size 640x480 with 1 Axes>"
      ]
     },
     "metadata": {},
     "output_type": "display_data"
    }
   ],
   "source": [
    "from finanzas import *\n",
    "\n",
    "accion = AccionComun(\n",
    "    dividendo_esperado=6,\n",
    "    periodo=1,\n",
    "    tasa_descuento=0.1,\n",
    "    tasa_crecimiento=0.06,\n",
    "    tasa_crecimiento_lista=[0.02, 0.03, 0.04, 0.05]\n",
    ")\n",
    "\n",
    "accion.presentacion()"
   ]
  },
  {
   "attachments": {},
   "cell_type": "markdown",
   "metadata": {},
   "source": [
    "## Acción común con crecimiento irregular\n",
    "Se usa el VNA para calcular el precio de la acción presente. Debido a la complejidad de los casos, es mejor diseñar cada procedimiento según el caso."
   ]
  },
  {
   "attachments": {},
   "cell_type": "markdown",
   "metadata": {},
   "source": [
    "Supongamos que una empresa de dividendos irregulares anuncia que pagará dividendos de USD2 por acción los dos primeros años, USD3 los dos años siguientes y de ahí los dividendos crecerán 4%; y que el retorno requerido es de r=8%"
   ]
  },
  {
   "cell_type": "code",
   "execution_count": 1,
   "metadata": {},
   "outputs": [
    {
     "name": "stdout",
     "output_type": "stream",
     "text": [
      "Flujo: [2, 2, 3, 81.0]\n",
      "Valor de la acción: 78.00\n",
      "Valor presente del flujo: 65.49\n"
     ]
    },
    {
     "data": {
      "image/png": "[encoded data removed]",
      "text/plain": [
       "<Figure size 640x480 with 1 Axes>"
      ]
     },
     "metadata": {},
     "output_type": "display_data"
    }
   ],
   "source": [
    "from finanzas import *\n",
    "import numpy_financial as npf\n",
    "\n",
    "tasa_descuento = 0.08\n",
    "accion = AccionComun(\n",
    "    dividendo_esperado=3,\n",
    "    periodo=1,\n",
    "    tasa_descuento=tasa_descuento,\n",
    "    tasa_crecimiento=0.04,\n",
    ").valor()\n",
    "\n",
    "# Flujo\n",
    "primero = [2, 2]\n",
    "segundo = [3, 3 + accion]\n",
    "flujo = primero + segundo\n",
    "\n",
    "# Consola\n",
    "print(f'Flujo: {flujo}')\n",
    "print(f'Valor de la acción: {accion:.2f}')\n",
    "print(f'Valor presente del flujo: {npf.npv(tasa_descuento, [0] + flujo):.2f}')\n",
    "AccionComun.grafico_flujo(flujo=flujo)"
   ]
  }
 ],
 "metadata": {
  "kernelspec": {
   "display_name": "Python 3",
   "language": "python",
   "name": "python3"
  },
  "language_info": {
   "codemirror_mode": {
    "name": "ipython",
    "version": 3
   },
   "file_extension": ".py",
   "mimetype": "text/x-python",
   "name": "python",
   "nbconvert_exporter": "python",
   "pygments_lexer": "ipython3",
   "version": "3.11.1"
  },
  "orig_nbformat": 4,
  "vscode": {
   "interpreter": {
    "hash": "50ccbcaf365e3a3969e78fe7da414ebbfe5cca2be074def83e792dbceb3c85eb"
   }
  }
 },
 "nbformat": 4,
 "nbformat_minor": 2
}
